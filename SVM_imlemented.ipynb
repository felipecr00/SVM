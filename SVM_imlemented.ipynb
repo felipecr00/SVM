{
 "cells": [
  {
   "cell_type": "code",
   "execution_count": 1,
   "metadata": {
    "collapsed": true
   },
   "outputs": [],
   "source": [
    "from gurobipy import *"
   ]
  },
  {
   "cell_type": "code",
   "execution_count": 2,
   "metadata": {
    "collapsed": true
   },
   "outputs": [],
   "source": [
    "x = [ [0,1], [1, 2], [3, 4]]\n",
    "y = [ [1,1], [2,2], [4,4]]\n",
    "gamma = 0.1"
   ]
  },
  {
   "cell_type": "code",
   "execution_count": 5,
   "metadata": {
    "collapsed": true
   },
   "outputs": [],
   "source": [
    "def optimize(x, y, gamma):\n",
    "    \n",
    "    m = Model()\n",
    "    a = [ m.addVar(lb=-GRB.INFINITY, ub=GRB.INFINITY, name=\"a0\"),\n",
    "          m.addVar(lb=-GRB.INFINITY, ub=GRB.INFINITY, name=\"a1\") ]\n",
    "    beta = m.addVar(lb=-GRB.INFINITY, ub=GRB.INFINITY, name=\"beta\")\n",
    "\n",
    "    u = []\n",
    "    N = len(x)\n",
    "    for i in range(N):\n",
    "        u.append(m.addVar(name=(\"u%d\" % i)))\n",
    "\n",
    "    v = []\n",
    "    M = len(y)\n",
    "    for i in range(M):\n",
    "        v.append(m.addVar(name=(\"v%d\" % i)))\n",
    "\n",
    "    m.update()\n",
    "\n",
    "    m.setObjective(a[0]*a[0] + a[1]*a[1] + gamma*(quicksum(u) + quicksum(v)))\n",
    "\n",
    "    for i in range(N):\n",
    "        xi = x[i]\n",
    "        m.addConstr(a[0]*xi[0] + a[1]*xi[1] - beta >= 1 - u[i], name=(\"x%d\" % i))\n",
    "\n",
    "    for i in range(M):\n",
    "        yi = y[i]\n",
    "        m.addConstr(a[0]*yi[0] + a[1]*yi[1] - beta <= -(1 - v[i]), name=(\"y%d\" % i))\n",
    "\n",
    "    m.update()\n",
    "    m.write('test.lp')\n",
    "    m.optimize()\n",
    "\n",
    "    results = {}\n",
    "    if m.Status == GRB.OPTIMAL:\n",
    "        results['a'] = [a[0].X, a[1].X]\n",
    "        results['beta'] = beta.X\n",
    "\n",
    "    return results"
   ]
  },
  {
   "cell_type": "code",
   "execution_count": 6,
   "metadata": {
    "collapsed": false
   },
   "outputs": [
    {
     "name": "stdout",
     "output_type": "stream",
     "text": [
      "Optimize a model with 6 rows, 9 columns and 23 nonzeros\n",
      "Model has 2 quadratic objective terms\n",
      "Coefficient statistics:\n",
      "  Matrix range     [1e+00, 4e+00]\n",
      "  Objective range  [1e-01, 1e-01]\n",
      "  QObjective range [2e+00, 2e+00]\n",
      "  Bounds range     [0e+00, 0e+00]\n",
      "  RHS range        [1e+00, 1e+00]\n",
      "Presolve removed 1 rows and 0 columns\n",
      "Presolve time: 0.02s\n",
      "Presolved: 5 rows, 9 columns, 24 nonzeros\n",
      "Presolved model has 2 quadratic objective terms\n",
      "Ordering time: 0.00s\n",
      "\n",
      "Barrier statistics:\n",
      " Free vars  : 2\n",
      " AA' NZ     : 1.000e+01\n",
      " Factor NZ  : 1.500e+01\n",
      " Factor Ops : 5.500e+01 (less than 1 second per iteration)\n",
      " Threads    : 1\n",
      "\n",
      "                  Objective                Residual\n",
      "Iter       Primal          Dual         Primal    Dual     Compl     Time\n",
      "   0   7.00300000e+02 -5.22959078e-14  0.00e+00 1.79e-07  1.00e+06     0s\n",
      "   1   7.00205406e+02  2.91923223e-01  0.00e+00 1.72e-10  1.02e+03     0s\n",
      "   2   6.16099193e+02  2.94335784e-01  0.00e+00 1.73e-16  5.13e+01     0s\n",
      "   3   1.29166828e+00  2.94773254e-01  0.00e+00 1.39e-17  8.31e-02     0s\n",
      "   4   5.94776024e-01  4.85230492e-01  0.00e+00 2.78e-17  9.13e-03     0s\n",
      "   5   5.78939890e-01  5.75961051e-01  0.00e+00 5.55e-17  2.48e-04     0s\n",
      "   6   5.77501472e-01  5.77498461e-01  0.00e+00 5.14e-17  2.51e-07     0s\n",
      "   7   5.77500001e-01  5.77499998e-01  0.00e+00 5.57e-17  2.51e-10     0s\n",
      "\n",
      "Barrier solved model in 7 iterations and 0.06 seconds\n",
      "Optimal objective 5.77500001e-01\n",
      "\n"
     ]
    },
    {
     "data": {
      "text/plain": [
       "{'a': [-0.1499999981611477, 1.3162046728137371e-09],\n",
       " 'beta': -0.32036333384010107}"
      ]
     },
     "execution_count": 6,
     "metadata": {},
     "output_type": "execute_result"
    }
   ],
   "source": [
    "optimize(x,y,gamma)"
   ]
  },
  {
   "cell_type": "code",
   "execution_count": null,
   "metadata": {
    "collapsed": true
   },
   "outputs": [],
   "source": []
  }
 ],
 "metadata": {
  "kernelspec": {
   "display_name": "Python 3",
   "language": "python",
   "name": "python3"
  },
  "language_info": {
   "codemirror_mode": {
    "name": "ipython",
    "version": 3
   },
   "file_extension": ".py",
   "mimetype": "text/x-python",
   "name": "python",
   "nbconvert_exporter": "python",
   "pygments_lexer": "ipython3",
   "version": "3.6.2"
  }
 },
 "nbformat": 4,
 "nbformat_minor": 2
}
